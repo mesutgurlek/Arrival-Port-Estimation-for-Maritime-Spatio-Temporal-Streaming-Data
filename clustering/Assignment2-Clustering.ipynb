{
 "cells": [
  {
   "cell_type": "code",
   "execution_count": 2,
   "metadata": {},
   "outputs": [
    {
     "name": "stderr",
     "output_type": "stream",
     "text": [
      "/Users/mesutgurlek/miniconda2/lib/python2.7/site-packages/matplotlib/font_manager.py:273: UserWarning: Matplotlib is building the font cache using fc-list. This may take a moment.\n",
      "  warnings.warn('Matplotlib is building the font cache using fc-list. This may take a moment.')\n"
     ]
    }
   ],
   "source": [
    "# imports \n",
    "from pandas import read_csv\n",
    "from datetime import datetime\n",
    "from matplotlib import pyplot\n",
    "from sklearn import metrics\n",
    "from sklearn.metrics import mean_squared_error\n",
    "from sklearn.cluster import KMeans\n",
    "from sklearn.decomposition import PCA\n",
    "from sklearn.preprocessing import MinMaxScaler\n",
    "from sklearn.preprocessing import LabelEncoder\n",
    "from sklearn.preprocessing import scale\n",
    "from scipy import stats\n",
    "import scipy.cluster.hierarchy as hac"
   ]
  },
  {
   "cell_type": "code",
   "execution_count": null,
   "metadata": {},
   "outputs": [
    {
     "name": "stdout",
     "output_type": "stream",
     "text": [
      "Index([u'SPEED', u'LON', u'LAT', u'COURSE', u'HEADING'], dtype='object')\n"
     ]
    }
   ],
   "source": [
    "def parse(timestamp):\n",
    "    date = ''\n",
    "    format_type = True if len(timestamp.split('-')) > 1 else False\n",
    "    if format_type:\n",
    "        try:\n",
    "            date = datetime.strptime(timestamp, \"%d-%m-%y %H:%M\")\n",
    "        except Exception as e:\n",
    "            print(\"Got Exception parser 1: \", timestamp)\n",
    "    else:\n",
    "        try:\n",
    "            date = datetime.strptime(timestamp, \"%d/%m/%Y %H:%M\")\n",
    "        except Exception as e:\n",
    "            print(\"Got Exception parser 2: \", timestamp)\n",
    "\n",
    "    return date\n",
    "\n",
    "\n",
    "# Loading the dataset\n",
    "dataset_path  = '../Dataset/training_dataset.csv'\n",
    "df = read_csv(dataset_path,  parse_dates = ['TIMESTAMP'], index_col=False, date_parser=parse)\n",
    "df_2 = df\n",
    "df.drop('SHIPTYPE', axis=1, inplace=True)\n",
    "# df.drop('ARRIVAL_PORT_CALC', axis=1, inplace=True)\n",
    "df.drop('ARRIVAL_CALC', axis=1, inplace=True)\n",
    "df.drop('REPORTED_DRAUGHT', axis=1, inplace=True)\n",
    "df.drop('DEPARTURE_PORT_NAME', axis=1, inplace=True)\n",
    "\n",
    "# manually specify column names\n",
    "df.columns = ['SHIP_ID', 'SPEED', 'LON', 'LAT', 'COURSE', 'HEADING', 'TIMESTAMP', 'ARRIVAL_PORT_CALC']\n",
    "dataset = df.sort_values(by=['SHIP_ID', 'TIMESTAMP'])\n",
    "dataset.drop('SHIP_ID', axis=1, inplace=True)\n",
    "dataset.drop('TIMESTAMP', axis=1, inplace=True)\n",
    "dataset.drop('ARRIVAL_PORT_CALC', axis=1, inplace=True)\n",
    "\n",
    "n_clusters = 28\n",
    "print(dataset.columns)\n",
    "\n",
    "# Preprocessing\n",
    "encoder = LabelEncoder()\n",
    "dataset = dataset.dropna(axis=0, how='any')\n",
    "\n",
    "Z = hac.linkage(dataset, method='single', metric='correlation')\n",
    "\n",
    "\n",
    "\n"
   ]
  },
  {
   "cell_type": "code",
   "execution_count": null,
   "metadata": {},
   "outputs": [],
   "source": []
  }
 ],
 "metadata": {
  "kernelspec": {
   "display_name": "Python 2",
   "language": "python",
   "name": "python2"
  },
  "language_info": {
   "codemirror_mode": {
    "name": "ipython",
    "version": 2
   },
   "file_extension": ".py",
   "mimetype": "text/x-python",
   "name": "python",
   "nbconvert_exporter": "python",
   "pygments_lexer": "ipython2",
   "version": "2.7.12"
  }
 },
 "nbformat": 4,
 "nbformat_minor": 2
}
